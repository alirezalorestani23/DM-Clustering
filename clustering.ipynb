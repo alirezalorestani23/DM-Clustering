{
  "nbformat": 4,
  "nbformat_minor": 0,
  "metadata": {
    "colab": {
      "name": "clustering.ipynb",
      "provenance": [],
      "collapsed_sections": [],
      "mount_file_id": "1GmaGgZQULS72aK19TerD7bfY22l9SO0Z",
      "authorship_tag": "ABX9TyMZmSI8WnWd0lOwTp32HvUO",
      "include_colab_link": true
    },
    "kernelspec": {
      "name": "python3",
      "display_name": "Python 3"
    },
    "language_info": {
      "name": "python"
    }
  },
  "cells": [
    {
      "cell_type": "markdown",
      "metadata": {
        "id": "view-in-github",
        "colab_type": "text"
      },
      "source": [
        "<a href=\"https://colab.research.google.com/github/alirezalorestani23/DM-Clustering/blob/main/clustering.ipynb\" target=\"_parent\"><img src=\"https://colab.research.google.com/assets/colab-badge.svg\" alt=\"Open In Colab\"/></a>"
      ]
    },
    {
      "cell_type": "code",
      "metadata": {
        "id": "VYABoNdbN80d"
      },
      "source": [
        ""
      ],
      "execution_count": null,
      "outputs": []
    },
    {
      "cell_type": "code",
      "metadata": {
        "colab": {
          "base_uri": "https://localhost:8080/"
        },
        "id": "yxZ8cEmmDsVw",
        "outputId": "4d410332-28fd-4026-bd52-c6c345b84965"
      },
      "source": [
        "from google.colab import drive\n",
        "drive.mount('/content/drive')"
      ],
      "execution_count": null,
      "outputs": [
        {
          "output_type": "stream",
          "text": [
            "Drive already mounted at /content/drive; to attempt to forcibly remount, call drive.mount(\"/content/drive\", force_remount=True).\n"
          ],
          "name": "stdout"
        }
      ]
    },
    {
      "cell_type": "code",
      "metadata": {
        "id": "6PE-gEtvESWL"
      },
      "source": [
        "get_ipython().system_raw(\"unrar x /content/drive/MyDrive/datasets/divar_dataset.rar\")\n",
        "get_ipython().system_raw(\"unrar x /content/drive/MyDrive/digikala_dataset.rar\")"
      ],
      "execution_count": null,
      "outputs": []
    },
    {
      "cell_type": "code",
      "metadata": {
        "id": "-CuywCYXEmiM"
      },
      "source": [
        "import pandas as pd\n",
        "import numpy as np\n",
        "import matplotlib.pyplot as plt\n",
        "from sklearn.cluster import KMeans\n",
        "from sklearn import metrics\n",
        "from scipy.spatial.distance import cdist"
      ],
      "execution_count": null,
      "outputs": []
    },
    {
      "cell_type": "code",
      "metadata": {
        "id": "bEA7lXbeEz9O"
      },
      "source": [
        "divar_dataset = pd.read_csv(\"divar_posts_dataset.csv\")\n",
        "digikala_dataset = pd.read_csv(\"orders.csv\")"
      ],
      "execution_count": null,
      "outputs": []
    },
    {
      "cell_type": "code",
      "metadata": {
        "colab": {
          "base_uri": "https://localhost:8080/",
          "height": 530
        },
        "id": "kDJVz4HwFLf2",
        "outputId": "3b36bba7-629f-4f9a-dd33-e2ad52893c8a"
      },
      "source": [
        "divar_dataset.head()"
      ],
      "execution_count": null,
      "outputs": [
        {
          "output_type": "execute_result",
          "data": {
            "text/html": [
              "<div>\n",
              "<style scoped>\n",
              "    .dataframe tbody tr th:only-of-type {\n",
              "        vertical-align: middle;\n",
              "    }\n",
              "\n",
              "    .dataframe tbody tr th {\n",
              "        vertical-align: top;\n",
              "    }\n",
              "\n",
              "    .dataframe thead th {\n",
              "        text-align: right;\n",
              "    }\n",
              "</style>\n",
              "<table border=\"1\" class=\"dataframe\">\n",
              "  <thead>\n",
              "    <tr style=\"text-align: right;\">\n",
              "      <th></th>\n",
              "      <th>Unnamed: 0</th>\n",
              "      <th>archive_by_user</th>\n",
              "      <th>brand</th>\n",
              "      <th>cat1</th>\n",
              "      <th>cat2</th>\n",
              "      <th>cat3</th>\n",
              "      <th>city</th>\n",
              "      <th>created_at</th>\n",
              "      <th>desc</th>\n",
              "      <th>id</th>\n",
              "      <th>image_count</th>\n",
              "      <th>mileage</th>\n",
              "      <th>platform</th>\n",
              "      <th>price</th>\n",
              "      <th>title</th>\n",
              "      <th>type</th>\n",
              "      <th>year</th>\n",
              "    </tr>\n",
              "  </thead>\n",
              "  <tbody>\n",
              "    <tr>\n",
              "      <th>0</th>\n",
              "      <td>0</td>\n",
              "      <td>False</td>\n",
              "      <td>NaN</td>\n",
              "      <td>for-the-home</td>\n",
              "      <td>furniture-and-home-decore</td>\n",
              "      <td>sofa-armchair</td>\n",
              "      <td>Tehran</td>\n",
              "      <td>Tuesday 07PM</td>\n",
              "      <td>کلاسیک و شیک و استثنایی\\nچرم مالزی\\nچوب راش\\nف...</td>\n",
              "      <td>54761638662241</td>\n",
              "      <td>5</td>\n",
              "      <td>NaN</td>\n",
              "      <td>mobile</td>\n",
              "      <td>3850000</td>\n",
              "      <td>ست مبلمان و نهارخوری ٩ نفره</td>\n",
              "      <td>NaN</td>\n",
              "      <td>NaN</td>\n",
              "    </tr>\n",
              "    <tr>\n",
              "      <th>1</th>\n",
              "      <td>1</td>\n",
              "      <td>False</td>\n",
              "      <td>NaN</td>\n",
              "      <td>for-the-home</td>\n",
              "      <td>furniture-and-home-decore</td>\n",
              "      <td>antiques-and-art</td>\n",
              "      <td>Mashhad</td>\n",
              "      <td>Tuesday 07PM</td>\n",
              "      <td>سلام,یک عدد گلدون نخل سه طبقه ی سالم دارم با پ...</td>\n",
              "      <td>42727631379133</td>\n",
              "      <td>1</td>\n",
              "      <td>NaN</td>\n",
              "      <td>mobile</td>\n",
              "      <td>30000</td>\n",
              "      <td>گلدون مصنوعی نخل</td>\n",
              "      <td>NaN</td>\n",
              "      <td>NaN</td>\n",
              "    </tr>\n",
              "    <tr>\n",
              "      <th>2</th>\n",
              "      <td>2</td>\n",
              "      <td>False</td>\n",
              "      <td>NaN</td>\n",
              "      <td>vehicles</td>\n",
              "      <td>cars</td>\n",
              "      <td>heavy</td>\n",
              "      <td>Mashhad</td>\n",
              "      <td>Tuesday 07PM</td>\n",
              "      <td>سریال 43j$NUMبدون شکستگی سه حلقه لاستیک نو یک ...</td>\n",
              "      <td>63194439667302</td>\n",
              "      <td>4</td>\n",
              "      <td>NaN</td>\n",
              "      <td>mobile</td>\n",
              "      <td>-1</td>\n",
              "      <td>لودر کاتر پیلار 950</td>\n",
              "      <td>NaN</td>\n",
              "      <td>NaN</td>\n",
              "    </tr>\n",
              "    <tr>\n",
              "      <th>3</th>\n",
              "      <td>3</td>\n",
              "      <td>False</td>\n",
              "      <td>NaN</td>\n",
              "      <td>for-the-home</td>\n",
              "      <td>furniture-and-home-decore</td>\n",
              "      <td>sofa-armchair</td>\n",
              "      <td>Tehran</td>\n",
              "      <td>Tuesday 07PM</td>\n",
              "      <td>مبل راحتی هفت نفره شامل سه نفره یک عدد دونفره ...</td>\n",
              "      <td>19133025491169</td>\n",
              "      <td>4</td>\n",
              "      <td>NaN</td>\n",
              "      <td>mobile</td>\n",
              "      <td>600000</td>\n",
              "      <td>مبل راحتی هفت نفره بامیز جلو مبلی</td>\n",
              "      <td>NaN</td>\n",
              "      <td>NaN</td>\n",
              "    </tr>\n",
              "    <tr>\n",
              "      <th>4</th>\n",
              "      <td>4</td>\n",
              "      <td>False</td>\n",
              "      <td>NaN</td>\n",
              "      <td>personal</td>\n",
              "      <td>baby-and-toys</td>\n",
              "      <td>personal-toys</td>\n",
              "      <td>Karaj</td>\n",
              "      <td>Tuesday 08PM</td>\n",
              "      <td>شارژی کنترلی سویچ حمل تا 35 کیلو صندلی برای دو...</td>\n",
              "      <td>58998998335444</td>\n",
              "      <td>2</td>\n",
              "      <td>NaN</td>\n",
              "      <td>mobile</td>\n",
              "      <td>450000</td>\n",
              "      <td>ماشین شارژی</td>\n",
              "      <td>NaN</td>\n",
              "      <td>NaN</td>\n",
              "    </tr>\n",
              "  </tbody>\n",
              "</table>\n",
              "</div>"
            ],
            "text/plain": [
              "   Unnamed: 0  archive_by_user  ... type year\n",
              "0           0            False  ...  NaN  NaN\n",
              "1           1            False  ...  NaN  NaN\n",
              "2           2            False  ...  NaN  NaN\n",
              "3           3            False  ...  NaN  NaN\n",
              "4           4            False  ...  NaN  NaN\n",
              "\n",
              "[5 rows x 17 columns]"
            ]
          },
          "metadata": {
            "tags": []
          },
          "execution_count": 5
        }
      ]
    },
    {
      "cell_type": "code",
      "metadata": {
        "colab": {
          "base_uri": "https://localhost:8080/",
          "height": 204
        },
        "id": "_5eoVbaFFP7s",
        "outputId": "dfb8cfca-0eb0-4e86-aba8-26678e39e8c8"
      },
      "source": [
        "digikala_dataset.head()"
      ],
      "execution_count": null,
      "outputs": [
        {
          "output_type": "execute_result",
          "data": {
            "text/html": [
              "<div>\n",
              "<style scoped>\n",
              "    .dataframe tbody tr th:only-of-type {\n",
              "        vertical-align: middle;\n",
              "    }\n",
              "\n",
              "    .dataframe tbody tr th {\n",
              "        vertical-align: top;\n",
              "    }\n",
              "\n",
              "    .dataframe thead th {\n",
              "        text-align: right;\n",
              "    }\n",
              "</style>\n",
              "<table border=\"1\" class=\"dataframe\">\n",
              "  <thead>\n",
              "    <tr style=\"text-align: right;\">\n",
              "      <th></th>\n",
              "      <th>ID_Order</th>\n",
              "      <th>ID_Customer</th>\n",
              "      <th>ID_Item</th>\n",
              "      <th>DateTime_CartFinalize</th>\n",
              "      <th>Amount_Gross_Order</th>\n",
              "      <th>city_name_fa</th>\n",
              "      <th>Quantity_item</th>\n",
              "    </tr>\n",
              "  </thead>\n",
              "  <tbody>\n",
              "    <tr>\n",
              "      <th>0</th>\n",
              "      <td>2714054</td>\n",
              "      <td>469662</td>\n",
              "      <td>21386</td>\n",
              "      <td>2015-10-15 08:50:56.000</td>\n",
              "      <td>597982.0</td>\n",
              "      <td>محمود آباد</td>\n",
              "      <td>1.0</td>\n",
              "    </tr>\n",
              "    <tr>\n",
              "      <th>1</th>\n",
              "      <td>11104039</td>\n",
              "      <td>3063877</td>\n",
              "      <td>248497</td>\n",
              "      <td>2018-02-11 00:29:26.000</td>\n",
              "      <td>980000.0</td>\n",
              "      <td>خرمدره</td>\n",
              "      <td>1.0</td>\n",
              "    </tr>\n",
              "    <tr>\n",
              "      <th>2</th>\n",
              "      <td>4228130</td>\n",
              "      <td>3184893</td>\n",
              "      <td>50144</td>\n",
              "      <td>2016-06-14 00:30:08.000</td>\n",
              "      <td>229358.0</td>\n",
              "      <td>قرچک</td>\n",
              "      <td>1.0</td>\n",
              "    </tr>\n",
              "    <tr>\n",
              "      <th>3</th>\n",
              "      <td>22225624</td>\n",
              "      <td>6888562</td>\n",
              "      <td>70208</td>\n",
              "      <td>2018-09-03 14:37:19.000</td>\n",
              "      <td>16514.0</td>\n",
              "      <td>قم</td>\n",
              "      <td>1.0</td>\n",
              "    </tr>\n",
              "    <tr>\n",
              "      <th>4</th>\n",
              "      <td>4068771</td>\n",
              "      <td>2533490</td>\n",
              "      <td>67627</td>\n",
              "      <td>2016-05-21 11:51:02.000</td>\n",
              "      <td>133028.0</td>\n",
              "      <td>تهران</td>\n",
              "      <td>1.0</td>\n",
              "    </tr>\n",
              "  </tbody>\n",
              "</table>\n",
              "</div>"
            ],
            "text/plain": [
              "   ID_Order  ID_Customer  ...  city_name_fa Quantity_item\n",
              "0   2714054       469662  ...    محمود آباد           1.0\n",
              "1  11104039      3063877  ...        خرمدره           1.0\n",
              "2   4228130      3184893  ...          قرچک           1.0\n",
              "3  22225624      6888562  ...            قم           1.0\n",
              "4   4068771      2533490  ...         تهران           1.0\n",
              "\n",
              "[5 rows x 7 columns]"
            ]
          },
          "metadata": {
            "tags": []
          },
          "execution_count": 6
        }
      ]
    },
    {
      "cell_type": "markdown",
      "metadata": {
        "id": "ZImSNsptF2YY"
      },
      "source": [
        "get city list:"
      ]
    },
    {
      "cell_type": "code",
      "metadata": {
        "colab": {
          "base_uri": "https://localhost:8080/"
        },
        "id": "27D72wZIFrzz",
        "outputId": "17889408-b036-4c92-c937-096608d16c69"
      },
      "source": [
        "unique_cities = divar_dataset.city.unique()\n",
        "print(unique_cities)\n"
      ],
      "execution_count": null,
      "outputs": [
        {
          "output_type": "stream",
          "text": [
            "['Tehran' 'Mashhad' 'Karaj' 'Qom' 'Isfahan' 'Shiraz' 'Tabriz' 'Ahvaz'\n",
            " 'Kermanshah']\n"
          ],
          "name": "stdout"
        }
      ]
    },
    {
      "cell_type": "markdown",
      "metadata": {
        "id": "w7aRn09AGLeO"
      },
      "source": [
        "get product list:"
      ]
    },
    {
      "cell_type": "code",
      "metadata": {
        "colab": {
          "base_uri": "https://localhost:8080/",
          "height": 564
        },
        "id": "F7AtxsjmGNkp",
        "outputId": "08c4aa43-8c70-4f96-ce2e-a03466907930"
      },
      "source": [
        "divar_dataset['categories'] = divar_dataset['cat1']+\" \"+divar_dataset['cat2']\n",
        "divar_dataset.head()"
      ],
      "execution_count": null,
      "outputs": [
        {
          "output_type": "execute_result",
          "data": {
            "text/html": [
              "<div>\n",
              "<style scoped>\n",
              "    .dataframe tbody tr th:only-of-type {\n",
              "        vertical-align: middle;\n",
              "    }\n",
              "\n",
              "    .dataframe tbody tr th {\n",
              "        vertical-align: top;\n",
              "    }\n",
              "\n",
              "    .dataframe thead th {\n",
              "        text-align: right;\n",
              "    }\n",
              "</style>\n",
              "<table border=\"1\" class=\"dataframe\">\n",
              "  <thead>\n",
              "    <tr style=\"text-align: right;\">\n",
              "      <th></th>\n",
              "      <th>Unnamed: 0</th>\n",
              "      <th>archive_by_user</th>\n",
              "      <th>brand</th>\n",
              "      <th>cat1</th>\n",
              "      <th>cat2</th>\n",
              "      <th>cat3</th>\n",
              "      <th>city</th>\n",
              "      <th>created_at</th>\n",
              "      <th>desc</th>\n",
              "      <th>id</th>\n",
              "      <th>image_count</th>\n",
              "      <th>mileage</th>\n",
              "      <th>platform</th>\n",
              "      <th>price</th>\n",
              "      <th>title</th>\n",
              "      <th>type</th>\n",
              "      <th>year</th>\n",
              "      <th>categories</th>\n",
              "    </tr>\n",
              "  </thead>\n",
              "  <tbody>\n",
              "    <tr>\n",
              "      <th>0</th>\n",
              "      <td>0</td>\n",
              "      <td>False</td>\n",
              "      <td>NaN</td>\n",
              "      <td>for-the-home</td>\n",
              "      <td>furniture-and-home-decore</td>\n",
              "      <td>sofa-armchair</td>\n",
              "      <td>Tehran</td>\n",
              "      <td>Tuesday 07PM</td>\n",
              "      <td>کلاسیک و شیک و استثنایی\\nچرم مالزی\\nچوب راش\\nف...</td>\n",
              "      <td>54761638662241</td>\n",
              "      <td>5</td>\n",
              "      <td>NaN</td>\n",
              "      <td>mobile</td>\n",
              "      <td>3850000</td>\n",
              "      <td>ست مبلمان و نهارخوری ٩ نفره</td>\n",
              "      <td>NaN</td>\n",
              "      <td>NaN</td>\n",
              "      <td>for-the-home furniture-and-home-decore</td>\n",
              "    </tr>\n",
              "    <tr>\n",
              "      <th>1</th>\n",
              "      <td>1</td>\n",
              "      <td>False</td>\n",
              "      <td>NaN</td>\n",
              "      <td>for-the-home</td>\n",
              "      <td>furniture-and-home-decore</td>\n",
              "      <td>antiques-and-art</td>\n",
              "      <td>Mashhad</td>\n",
              "      <td>Tuesday 07PM</td>\n",
              "      <td>سلام,یک عدد گلدون نخل سه طبقه ی سالم دارم با پ...</td>\n",
              "      <td>42727631379133</td>\n",
              "      <td>1</td>\n",
              "      <td>NaN</td>\n",
              "      <td>mobile</td>\n",
              "      <td>30000</td>\n",
              "      <td>گلدون مصنوعی نخل</td>\n",
              "      <td>NaN</td>\n",
              "      <td>NaN</td>\n",
              "      <td>for-the-home furniture-and-home-decore</td>\n",
              "    </tr>\n",
              "    <tr>\n",
              "      <th>2</th>\n",
              "      <td>2</td>\n",
              "      <td>False</td>\n",
              "      <td>NaN</td>\n",
              "      <td>vehicles</td>\n",
              "      <td>cars</td>\n",
              "      <td>heavy</td>\n",
              "      <td>Mashhad</td>\n",
              "      <td>Tuesday 07PM</td>\n",
              "      <td>سریال 43j$NUMبدون شکستگی سه حلقه لاستیک نو یک ...</td>\n",
              "      <td>63194439667302</td>\n",
              "      <td>4</td>\n",
              "      <td>NaN</td>\n",
              "      <td>mobile</td>\n",
              "      <td>-1</td>\n",
              "      <td>لودر کاتر پیلار 950</td>\n",
              "      <td>NaN</td>\n",
              "      <td>NaN</td>\n",
              "      <td>vehicles cars</td>\n",
              "    </tr>\n",
              "    <tr>\n",
              "      <th>3</th>\n",
              "      <td>3</td>\n",
              "      <td>False</td>\n",
              "      <td>NaN</td>\n",
              "      <td>for-the-home</td>\n",
              "      <td>furniture-and-home-decore</td>\n",
              "      <td>sofa-armchair</td>\n",
              "      <td>Tehran</td>\n",
              "      <td>Tuesday 07PM</td>\n",
              "      <td>مبل راحتی هفت نفره شامل سه نفره یک عدد دونفره ...</td>\n",
              "      <td>19133025491169</td>\n",
              "      <td>4</td>\n",
              "      <td>NaN</td>\n",
              "      <td>mobile</td>\n",
              "      <td>600000</td>\n",
              "      <td>مبل راحتی هفت نفره بامیز جلو مبلی</td>\n",
              "      <td>NaN</td>\n",
              "      <td>NaN</td>\n",
              "      <td>for-the-home furniture-and-home-decore</td>\n",
              "    </tr>\n",
              "    <tr>\n",
              "      <th>4</th>\n",
              "      <td>4</td>\n",
              "      <td>False</td>\n",
              "      <td>NaN</td>\n",
              "      <td>personal</td>\n",
              "      <td>baby-and-toys</td>\n",
              "      <td>personal-toys</td>\n",
              "      <td>Karaj</td>\n",
              "      <td>Tuesday 08PM</td>\n",
              "      <td>شارژی کنترلی سویچ حمل تا 35 کیلو صندلی برای دو...</td>\n",
              "      <td>58998998335444</td>\n",
              "      <td>2</td>\n",
              "      <td>NaN</td>\n",
              "      <td>mobile</td>\n",
              "      <td>450000</td>\n",
              "      <td>ماشین شارژی</td>\n",
              "      <td>NaN</td>\n",
              "      <td>NaN</td>\n",
              "      <td>personal baby-and-toys</td>\n",
              "    </tr>\n",
              "  </tbody>\n",
              "</table>\n",
              "</div>"
            ],
            "text/plain": [
              "   Unnamed: 0  archive_by_user  ... year                              categories\n",
              "0           0            False  ...  NaN  for-the-home furniture-and-home-decore\n",
              "1           1            False  ...  NaN  for-the-home furniture-and-home-decore\n",
              "2           2            False  ...  NaN                           vehicles cars\n",
              "3           3            False  ...  NaN  for-the-home furniture-and-home-decore\n",
              "4           4            False  ...  NaN                  personal baby-and-toys\n",
              "\n",
              "[5 rows x 18 columns]"
            ]
          },
          "metadata": {
            "tags": []
          },
          "execution_count": 11
        }
      ]
    },
    {
      "cell_type": "code",
      "metadata": {
        "colab": {
          "base_uri": "https://localhost:8080/"
        },
        "id": "xDjKKaF1Hjhj",
        "outputId": "12bc831a-1a56-4050-cb10-b180908414a4"
      },
      "source": [
        "categories = divar_dataset.categories.unique()\n",
        "print(categories)"
      ],
      "execution_count": null,
      "outputs": [
        {
          "output_type": "stream",
          "text": [
            "['for-the-home furniture-and-home-decore' 'vehicles cars'\n",
            " 'personal baby-and-toys' 'vehicles parts-accessories'\n",
            " 'for-the-home utensils-and-appliances' 'personal clothing-and-shoes'\n",
            " 'electronic-devices mobile-tablet' 'personal childrens-clothing-and-shoe'\n",
            " 'electronic-devices game-consoles-and-video-games'\n",
            " 'electronic-devices audio-video' 'for-the-home building-and-garden'\n",
            " 'personal jewelry-and-watches' 'businesses equipments-and-machinery'\n",
            " 'leisure-hobbies bicycle' 'leisure-hobbies animals' nan\n",
            " 'businesses batch' 'leisure-hobbies musical-instruments'\n",
            " 'personal health-beauty' 'vehicles motorcycles'\n",
            " 'electronic-devices computers' 'leisure-hobbies sport-leisure'\n",
            " 'leisure-hobbies book-student-literature' 'for-the-home utility'\n",
            " 'leisure-hobbies travel-packages' 'leisure-hobbies hobby-collectibles'\n",
            " 'leisure-hobbies leisure-hobbies-toys' 'electronic-devices phone']\n"
          ],
          "name": "stdout"
        }
      ]
    },
    {
      "cell_type": "markdown",
      "metadata": {
        "id": "EzJ4MfR5H0mp"
      },
      "source": [
        "make vector from cities:"
      ]
    },
    {
      "cell_type": "code",
      "metadata": {
        "colab": {
          "base_uri": "https://localhost:8080/"
        },
        "id": "OaA5ilLPHTvu",
        "outputId": "e88f77c6-4d19-4ab3-fe12-2efb2e52128d"
      },
      "source": [
        "cities_vector =  pd.DataFrame(0, index=unique_cities, columns=categories)\n",
        "print(cities_vector)"
      ],
      "execution_count": null,
      "outputs": [
        {
          "output_type": "stream",
          "text": [
            "            for-the-home furniture-and-home-decore  ...  electronic-devices phone\n",
            "Tehran                                           0  ...                         0\n",
            "Mashhad                                          0  ...                         0\n",
            "Karaj                                            0  ...                         0\n",
            "Qom                                              0  ...                         0\n",
            "Isfahan                                          0  ...                         0\n",
            "Shiraz                                           0  ...                         0\n",
            "Tabriz                                           0  ...                         0\n",
            "Ahvaz                                            0  ...                         0\n",
            "Kermanshah                                       0  ...                         0\n",
            "\n",
            "[9 rows x 28 columns]\n"
          ],
          "name": "stdout"
        }
      ]
    },
    {
      "cell_type": "code",
      "metadata": {
        "colab": {
          "base_uri": "https://localhost:8080/"
        },
        "id": "p1nlmpTjJgXx",
        "outputId": "89a04bd9-1a21-47e7-f7be-787348723cbb"
      },
      "source": [
        "for i in range(len(divar_dataset)):\n",
        "  current_city = divar_dataset.iloc[i]['city']\n",
        "  current_cat = divar_dataset.iloc[i]['categories']\n",
        "  cities_vector.at[current_city,current_cat] = cities_vector.at[current_city,current_cat]+1\n",
        "print(cities_vector)"
      ],
      "execution_count": null,
      "outputs": [
        {
          "output_type": "stream",
          "text": [
            "            for-the-home furniture-and-home-decore  ...  electronic-devices phone\n",
            "Tehran                                      103579  ...                      1193\n",
            "Mashhad                                      27146  ...                         0\n",
            "Karaj                                        20359  ...                         0\n",
            "Qom                                           6347  ...                         0\n",
            "Isfahan                                      11097  ...                         0\n",
            "Shiraz                                       12298  ...                         0\n",
            "Tabriz                                        6789  ...                         0\n",
            "Ahvaz                                        11507  ...                         0\n",
            "Kermanshah                                    5323  ...                         0\n",
            "\n",
            "[9 rows x 28 columns]\n"
          ],
          "name": "stdout"
        }
      ]
    },
    {
      "cell_type": "markdown",
      "metadata": {
        "id": "8zhvKvS9PF04"
      },
      "source": [
        "kmeans:"
      ]
    },
    {
      "cell_type": "markdown",
      "metadata": {
        "id": "W0SYTOsFSnpP"
      },
      "source": [
        "choose optimal k for k-means:"
      ]
    },
    {
      "cell_type": "code",
      "metadata": {
        "id": "1EUUqqnAPFVn"
      },
      "source": [
        "distortions = []\n",
        "mapping = {} \n",
        "K = range(1,10)\n",
        "for k in K:\n",
        "    # Building and fitting the model\n",
        "    kmeanModel = KMeans(n_clusters=k).fit(cities_vector)\n",
        " \n",
        "    distortions.append(sum(np.min(cdist(cities_vector, kmeanModel.cluster_centers_,\n",
        "                                        'euclidean'), axis=1)) / cities_vector.shape[0])"
      ],
      "execution_count": null,
      "outputs": []
    },
    {
      "cell_type": "code",
      "metadata": {
        "colab": {
          "base_uri": "https://localhost:8080/",
          "height": 295
        },
        "id": "WzIgaIKZStwM",
        "outputId": "c2f112f9-40a2-41f4-b333-9d53b36e5941"
      },
      "source": [
        "\n",
        "plt.plot(K, distortions, 'bx-')\n",
        "plt.xlabel('Values of K')\n",
        "plt.ylabel('Distortion')\n",
        "plt.title('The Elbow Method using Distortion')\n",
        "plt.show()"
      ],
      "execution_count": null,
      "outputs": [
        {
          "output_type": "display_data",
          "data": {
            "image/png": "[encoded data removed]",
            "text/plain": [
              "<Figure size 432x288 with 1 Axes>"
            ]
          },
          "metadata": {
            "tags": [],
            "needs_background": "light"
          }
        }
      ]
    },
    {
      "cell_type": "markdown",
      "metadata": {
        "id": "TDEA_eCrTRUh"
      },
      "source": [
        "To determine the optimal number of clusters, we have to select the value of k at the elbow ie the point after which the distortion start decreasing in a linear fashion. \n",
        "so we choose **k=4**"
      ]
    },
    {
      "cell_type": "code",
      "metadata": {
        "colab": {
          "base_uri": "https://localhost:8080/"
        },
        "id": "aau_iLj6Td6M",
        "outputId": "a13502a1-d1ba-4d1f-d299-cf4705b6914d"
      },
      "source": [
        "kmean = KMeans(n_clusters=4)\n",
        "kmean.fit(cities_vector)\n",
        "clustered_cities = kmean.predict(cities_vector)\n",
        "clustered_cities_df = pd.DataFrame(clustered_cities,index=unique_cities, columns=['cluster'])\n",
        "print(clustered_cities_df)\n"
      ],
      "execution_count": null,
      "outputs": [
        {
          "output_type": "stream",
          "text": [
            "            cluster\n",
            "Tehran            1\n",
            "Mashhad           3\n",
            "Karaj             2\n",
            "Qom               0\n",
            "Isfahan           2\n",
            "Shiraz            2\n",
            "Tabriz            0\n",
            "Ahvaz             0\n",
            "Kermanshah        0\n"
          ],
          "name": "stdout"
        }
      ]
    },
    {
      "cell_type": "markdown",
      "metadata": {
        "id": "YKZGxHa7Wy0B"
      },
      "source": [
        "**TASK 2**"
      ]
    },
    {
      "cell_type": "markdown",
      "metadata": {
        "id": "p4dk9FgHY5-Q"
      },
      "source": [
        "sampling half of data:"
      ]
    },
    {
      "cell_type": "code",
      "metadata": {
        "colab": {
          "base_uri": "https://localhost:8080/"
        },
        "id": "LtUqWCnIXf-p",
        "outputId": "310cbfe3-61a1-4da0-f726-608406c07873"
      },
      "source": [
        "print(len(digikala_dataset))\n",
        "digikala_dataset = digikala_dataset.sample(frac=0.5, replace=True, random_state=1)\n",
        "print(len(digikala_dataset))\n"
      ],
      "execution_count": null,
      "outputs": [
        {
          "output_type": "stream",
          "text": [
            "200000\n",
            "100000\n"
          ],
          "name": "stdout"
        }
      ]
    },
    {
      "cell_type": "markdown",
      "metadata": {
        "id": "FhsEaa5pZltt"
      },
      "source": [
        "drop not mutual cities:"
      ]
    },
    {
      "cell_type": "code",
      "metadata": {
        "colab": {
          "base_uri": "https://localhost:8080/"
        },
        "id": "BZof1u3BY0sx",
        "outputId": "74e18467-af77-4900-ff78-3919b87947d3"
      },
      "source": [
        "divar_cities_fa = ['تهران', 'مشهد', 'کرج', 'قم', 'اصفهان', 'شیراز', 'تبریز', 'اهواز','کرمانشاه']\n",
        "digikala_dataset = digikala_dataset.loc[digikala_dataset['city_name_fa'].isin(divar_cities_fa)]\n",
        "print(len(digikala_dataset))"
      ],
      "execution_count": null,
      "outputs": [
        {
          "output_type": "stream",
          "text": [
            "70988\n"
          ],
          "name": "stdout"
        }
      ]
    },
    {
      "cell_type": "markdown",
      "metadata": {
        "id": "_V4jBYuRaYN4"
      },
      "source": [
        "get list of item ids:"
      ]
    },
    {
      "cell_type": "code",
      "metadata": {
        "colab": {
          "base_uri": "https://localhost:8080/"
        },
        "id": "gKa04jMoZ0N_",
        "outputId": "e52079cb-c3f2-4bb7-9e9e-32fae3659e4d"
      },
      "source": [
        "items = digikala_dataset.ID_Item.unique()\n",
        "print(items)"
      ],
      "execution_count": null,
      "outputs": [
        {
          "output_type": "stream",
          "text": [
            "[155682  42917 128911 ...   3860 154617 345800]\n"
          ],
          "name": "stdout"
        }
      ]
    },
    {
      "cell_type": "code",
      "metadata": {
        "colab": {
          "base_uri": "https://localhost:8080/"
        },
        "id": "11vFruvGbSbg",
        "outputId": "e441f1ce-d309-4d71-e212-f0f7db76777b"
      },
      "source": [
        "digi_cities_vector =  pd.DataFrame(0, index=divar_cities_fa, columns=items)\n",
        "print(digi_cities_vector)"
      ],
      "execution_count": null,
      "outputs": [
        {
          "output_type": "stream",
          "text": [
            "          155682  42917   128911  ...  3860    154617  345800\n",
            "تهران          0       0       0  ...       0       0       0\n",
            "مشهد           0       0       0  ...       0       0       0\n",
            "کرج            0       0       0  ...       0       0       0\n",
            "قم             0       0       0  ...       0       0       0\n",
            "اصفهان         0       0       0  ...       0       0       0\n",
            "شیراز          0       0       0  ...       0       0       0\n",
            "تبریز          0       0       0  ...       0       0       0\n",
            "اهواز          0       0       0  ...       0       0       0\n",
            "کرمانشاه       0       0       0  ...       0       0       0\n",
            "\n",
            "[9 rows x 36553 columns]\n"
          ],
          "name": "stdout"
        }
      ]
    },
    {
      "cell_type": "code",
      "metadata": {
        "colab": {
          "base_uri": "https://localhost:8080/"
        },
        "id": "6m7Ef28Pay4O",
        "outputId": "9f60c5ec-5467-422e-97bf-d202be8e1a25"
      },
      "source": [
        "for j in range(len(digikala_dataset)):\n",
        "  digi_current_city = digikala_dataset.iloc[j]['city_name_fa']\n",
        "  current_item = digikala_dataset.iloc[j]['ID_Item']\n",
        "  digi_cities_vector.at[digi_current_city,current_item] = digi_cities_vector.at[digi_current_city,current_item]+1\n",
        "print(digi_cities_vector)"
      ],
      "execution_count": null,
      "outputs": [
        {
          "output_type": "stream",
          "text": [
            "          155682  42917   128911  ...  3860    154617  345800\n",
            "تهران          1       2       1  ...       1       1       1\n",
            "مشهد           0       0       0  ...       0       0       0\n",
            "کرج            0       0       0  ...       0       0       0\n",
            "قم             0       0       0  ...       0       0       0\n",
            "اصفهان         1       0       0  ...       0       0       0\n",
            "شیراز          0       0       0  ...       0       0       0\n",
            "تبریز          0       0       0  ...       0       0       0\n",
            "اهواز          0       0       0  ...       0       0       0\n",
            "کرمانشاه       0       0       0  ...       0       0       0\n",
            "\n",
            "[9 rows x 36553 columns]\n"
          ],
          "name": "stdout"
        }
      ]
    },
    {
      "cell_type": "code",
      "metadata": {
        "colab": {
          "base_uri": "https://localhost:8080/"
        },
        "id": "Ox9wt2hUcLR9",
        "outputId": "daf10660-5c22-47df-f4ac-0e63355b0b23"
      },
      "source": [
        "kmean = KMeans(n_clusters=4)\n",
        "kmean.fit(digi_cities_vector)\n",
        "clustered_digi_cities = kmean.predict(digi_cities_vector)\n",
        "clustered_digi_cities_df = pd.DataFrame(clustered_digi_cities,index=divar_cities_fa, columns=['cluster'])\n",
        "print(clustered_digi_cities_df)"
      ],
      "execution_count": null,
      "outputs": [
        {
          "output_type": "stream",
          "text": [
            "          cluster\n",
            "تهران           1\n",
            "مشهد            3\n",
            "کرج             0\n",
            "قم              0\n",
            "اصفهان          2\n",
            "شیراز           0\n",
            "تبریز           0\n",
            "اهواز           0\n",
            "کرمانشاه        0\n"
          ],
          "name": "stdout"
        }
      ]
    },
    {
      "cell_type": "markdown",
      "metadata": {
        "id": "Euil5hmHcd6T"
      },
      "source": [
        "**TASK 3**"
      ]
    },
    {
      "cell_type": "code",
      "metadata": {
        "colab": {
          "base_uri": "https://localhost:8080/"
        },
        "id": "y9N94_hblrwU",
        "outputId": "7846004f-cf2a-40a0-8af3-a610c4e9fc7a"
      },
      "source": [
        "print(clustered_digi_cities_df)\n",
        "print(clustered_cities_df)"
      ],
      "execution_count": null,
      "outputs": [
        {
          "output_type": "stream",
          "text": [
            "          cluster\n",
            "تهران           1\n",
            "مشهد            3\n",
            "کرج             0\n",
            "قم              0\n",
            "اصفهان          2\n",
            "شیراز           0\n",
            "تبریز           0\n",
            "اهواز           0\n",
            "کرمانشاه        0\n",
            "            cluster\n",
            "Tehran            1\n",
            "Mashhad           3\n",
            "Karaj             2\n",
            "Qom               0\n",
            "Isfahan           2\n",
            "Shiraz            2\n",
            "Tabriz            0\n",
            "Ahvaz             0\n",
            "Kermanshah        0\n"
          ],
          "name": "stdout"
        }
      ]
    },
    {
      "cell_type": "markdown",
      "metadata": {
        "id": "gq4V7mIXl1VV"
      },
      "source": [
        "با مقایسه نتایج به دست آمده میبینیم که نتیجه خوشه بندی دو دیتا بیس روی شهر های مشترک تا حد زیادی مشابه است.\n",
        " به جز دو مورد اختلاف در شهرهای کرج و شیراز که در دو خوشه بندی مختلف در دسته های متفاوتی قرار گرفتند بقیه در گروه های مشابهی قرار گرفته اند. که باز هم نکته ی جالب توجه این است که هر دو همزمان در خوشه بندی دوم در دسته ی دیگری قرار گرفته اند.\n",
        "\n",
        "\n"
      ]
    },
    {
      "cell_type": "markdown",
      "metadata": {
        "id": "GdIf5CHKmGNk"
      },
      "source": [
        "**TASK 4**"
      ]
    },
    {
      "cell_type": "markdown",
      "metadata": {
        "id": "yayTIbK1m_eE"
      },
      "source": [
        "get list of prices:"
      ]
    },
    {
      "cell_type": "code",
      "metadata": {
        "colab": {
          "base_uri": "https://localhost:8080/"
        },
        "id": "8SzT-FAyl4Qi",
        "outputId": "7066b138-9d8f-4c87-f28b-6094cfe1d5f6"
      },
      "source": [
        "prices = divar_dataset.price.unique()\n",
        "print(prices)"
      ],
      "execution_count": null,
      "outputs": [
        {
          "output_type": "stream",
          "text": [
            "[ 3850000    30000       -1 ...  1185000 12850009 25000005]\n"
          ],
          "name": "stdout"
        }
      ]
    },
    {
      "cell_type": "code",
      "metadata": {
        "colab": {
          "base_uri": "https://localhost:8080/"
        },
        "id": "qEST8Te2nR5O",
        "outputId": "f3dd7f40-dd0c-4e21-85fd-a817b892c18e"
      },
      "source": [
        "product_vectors = pd.DataFrame(0, index=categories, columns=prices)\n",
        "print(product_vectors)"
      ],
      "execution_count": null,
      "outputs": [
        {
          "output_type": "stream",
          "text": [
            "                                                  3850000   ...  25000005\n",
            "for-the-home furniture-and-home-decore                   0  ...         0\n",
            "vehicles cars                                            0  ...         0\n",
            "personal baby-and-toys                                   0  ...         0\n",
            "vehicles parts-accessories                               0  ...         0\n",
            "for-the-home utensils-and-appliances                     0  ...         0\n",
            "personal clothing-and-shoes                              0  ...         0\n",
            "electronic-devices mobile-tablet                         0  ...         0\n",
            "personal childrens-clothing-and-shoe                     0  ...         0\n",
            "electronic-devices game-consoles-and-video-games         0  ...         0\n",
            "electronic-devices audio-video                           0  ...         0\n",
            "for-the-home building-and-garden                         0  ...         0\n",
            "personal jewelry-and-watches                             0  ...         0\n",
            "businesses equipments-and-machinery                      0  ...         0\n",
            "leisure-hobbies bicycle                                  0  ...         0\n",
            "leisure-hobbies animals                                  0  ...         0\n",
            "NaN                                                      0  ...         0\n",
            "businesses batch                                         0  ...         0\n",
            "leisure-hobbies musical-instruments                      0  ...         0\n",
            "personal health-beauty                                   0  ...         0\n",
            "vehicles motorcycles                                     0  ...         0\n",
            "electronic-devices computers                             0  ...         0\n",
            "leisure-hobbies sport-leisure                            0  ...         0\n",
            "leisure-hobbies book-student-literature                  0  ...         0\n",
            "for-the-home utility                                     0  ...         0\n",
            "leisure-hobbies travel-packages                          0  ...         0\n",
            "leisure-hobbies hobby-collectibles                       0  ...         0\n",
            "leisure-hobbies leisure-hobbies-toys                     0  ...         0\n",
            "electronic-devices phone                                 0  ...         0\n",
            "\n",
            "[28 rows x 3273 columns]\n"
          ],
          "name": "stdout"
        }
      ]
    },
    {
      "cell_type": "code",
      "metadata": {
        "colab": {
          "base_uri": "https://localhost:8080/"
        },
        "id": "no-rqq5goB6c",
        "outputId": "4e4cb93b-73b6-4a52-b10a-3f463b7f9d52"
      },
      "source": [
        "for z in range(len(divar_dataset)):\n",
        "  current_price = divar_dataset.iloc[z]['price']\n",
        "  current_category = divar_dataset.iloc[z]['categories']\n",
        "  product_vectors.at[current_category,current_price] = product_vectors.at[current_category,current_price]+1\n",
        "print(product_vectors)"
      ],
      "execution_count": null,
      "outputs": [
        {
          "output_type": "stream",
          "text": [
            "                                                  3850000   ...  25000005\n",
            "for-the-home furniture-and-home-decore                  11  ...         0\n",
            "vehicles cars                                            3  ...         1\n",
            "personal baby-and-toys                                   0  ...         0\n",
            "vehicles parts-accessories                               0  ...         0\n",
            "for-the-home utensils-and-appliances                     2  ...         0\n",
            "personal clothing-and-shoes                              0  ...         0\n",
            "electronic-devices mobile-tablet                         0  ...         0\n",
            "personal childrens-clothing-and-shoe                     0  ...         0\n",
            "electronic-devices game-consoles-and-video-games         0  ...         0\n",
            "electronic-devices audio-video                           0  ...         0\n",
            "for-the-home building-and-garden                         0  ...         0\n",
            "personal jewelry-and-watches                             1  ...         0\n",
            "businesses equipments-and-machinery                      6  ...         0\n",
            "leisure-hobbies bicycle                                  0  ...         0\n",
            "leisure-hobbies animals                                  0  ...         0\n",
            "NaN                                                      0  ...         0\n",
            "businesses batch                                         0  ...         0\n",
            "leisure-hobbies musical-instruments                      1  ...         0\n",
            "personal health-beauty                                   0  ...         0\n",
            "vehicles motorcycles                                    23  ...         0\n",
            "electronic-devices computers                             3  ...         0\n",
            "leisure-hobbies sport-leisure                            0  ...         0\n",
            "leisure-hobbies book-student-literature                  0  ...         0\n",
            "for-the-home utility                                     0  ...         0\n",
            "leisure-hobbies travel-packages                          0  ...         0\n",
            "leisure-hobbies hobby-collectibles                       0  ...         0\n",
            "leisure-hobbies leisure-hobbies-toys                     0  ...         0\n",
            "electronic-devices phone                                 0  ...         0\n",
            "\n",
            "[28 rows x 3273 columns]\n"
          ],
          "name": "stdout"
        }
      ]
    },
    {
      "cell_type": "code",
      "metadata": {
        "id": "pkrqFboqqX8n"
      },
      "source": [
        "cat_distortions = []\n",
        " \n",
        "K = range(1,29)\n",
        "for k in K:\n",
        "    # Building and fitting the model\n",
        "    kmean = KMeans(n_clusters=k).fit(product_vectors)\n",
        " \n",
        "    cat_distortions.append(sum(np.min(cdist(product_vectors, kmean.cluster_centers_,\n",
        "                                        'euclidean'), axis=1)) / product_vectors.shape[0])"
      ],
      "execution_count": null,
      "outputs": []
    },
    {
      "cell_type": "code",
      "metadata": {
        "colab": {
          "base_uri": "https://localhost:8080/",
          "height": 295
        },
        "id": "T4QVUlFKrAZR",
        "outputId": "19302827-22b4-4e48-e7eb-a17ffc04f90d"
      },
      "source": [
        "plt.plot(K, cat_distortions, 'bx-')\n",
        "plt.xlabel('Values of K')\n",
        "plt.ylabel('Distortion')\n",
        "plt.title('The Elbow Method using Distortion')\n",
        "plt.show()"
      ],
      "execution_count": null,
      "outputs": [
        {
          "output_type": "display_data",
          "data": {
            "image/png": "[encoded data removed]",
            "text/plain": [
              "<Figure size 432x288 with 1 Axes>"
            ]
          },
          "metadata": {
            "tags": [],
            "needs_background": "light"
          }
        }
      ]
    },
    {
      "cell_type": "code",
      "metadata": {
        "colab": {
          "base_uri": "https://localhost:8080/"
        },
        "id": "AXElzkJwswRF",
        "outputId": "05e8e8d9-3435-4db8-b9d8-34988e38b3f7"
      },
      "source": [
        "kmean = KMeans(n_clusters=11)\n",
        "kmean.fit(product_vectors)\n",
        "clustered_products = kmean.predict(product_vectors)\n",
        "clustered_products_df = pd.DataFrame(clustered_products,index=categories, columns=['cluster'])\n",
        "print(clustered_products_df)"
      ],
      "execution_count": null,
      "outputs": [
        {
          "output_type": "stream",
          "text": [
            "                                                  cluster\n",
            "for-the-home furniture-and-home-decore                  1\n",
            "vehicles cars                                           4\n",
            "personal baby-and-toys                                  0\n",
            "vehicles parts-accessories                              2\n",
            "for-the-home utensils-and-appliances                    9\n",
            "personal clothing-and-shoes                             3\n",
            "electronic-devices mobile-tablet                        5\n",
            "personal childrens-clothing-and-shoe                    0\n",
            "electronic-devices game-consoles-and-video-games        7\n",
            "electronic-devices audio-video                          7\n",
            "for-the-home building-and-garden                        7\n",
            "personal jewelry-and-watches                            0\n",
            "businesses equipments-and-machinery                     6\n",
            "leisure-hobbies bicycle                                 0\n",
            "leisure-hobbies animals                                 2\n",
            "NaN                                                     8\n",
            "businesses batch                                       10\n",
            "leisure-hobbies musical-instruments                     8\n",
            "personal health-beauty                                  0\n",
            "vehicles motorcycles                                    0\n",
            "electronic-devices computers                            7\n",
            "leisure-hobbies sport-leisure                           0\n",
            "leisure-hobbies book-student-literature                 8\n",
            "for-the-home utility                                    8\n",
            "leisure-hobbies travel-packages                         8\n",
            "leisure-hobbies hobby-collectibles                      8\n",
            "leisure-hobbies leisure-hobbies-toys                    8\n",
            "electronic-devices phone                                8\n"
          ],
          "name": "stdout"
        }
      ]
    }
  ]
}